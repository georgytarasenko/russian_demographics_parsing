{
 "cells": [
  {
   "cell_type": "code",
   "execution_count": 1,
   "metadata": {},
   "outputs": [],
   "source": [
    "import pandas as pd\n",
    "import re\n",
    "import requests\n",
    "from bs4 import BeautifulSoup\n",
    "from time import sleep\n",
    "from random import randint\n",
    "from selenium import webdriver as wb"
   ]
  },
  {
   "cell_type": "code",
   "execution_count": 336,
   "metadata": {},
   "outputs": [
    {
     "name": "stderr",
     "output_type": "stream",
     "text": [
      "<ipython-input-336-e78654822163>:38: SettingWithCopyWarning: \n",
      "A value is trying to be set on a copy of a slice from a DataFrame.\n",
      "Try using .loc[row_indexer,col_indexer] = value instead\n",
      "\n",
      "See the caveats in the documentation: https://pandas.pydata.org/pandas-docs/stable/user_guide/indexing.html#returning-a-view-versus-a-copy\n",
      "  table1[\"reg_number\"] = region_numbers[u]\n",
      "<ipython-input-336-e78654822163>:39: SettingWithCopyWarning: \n",
      "A value is trying to be set on a copy of a slice from a DataFrame.\n",
      "Try using .loc[row_indexer,col_indexer] = value instead\n",
      "\n",
      "See the caveats in the documentation: https://pandas.pydata.org/pandas-docs/stable/user_guide/indexing.html#returning-a-view-versus-a-copy\n",
      "  table1[\"reg_name\"] = region_names[u]\n"
     ]
    }
   ],
   "source": [
    "\n",
    "    \n",
    "columns = []\n",
    "\n",
    "base_url = 'http://www.demoscope.ru/weekly/ssp/rus_age1_89.php?reg=1'\n",
    "page  = requests.get(base_url)\n",
    "tables = pd.read_html(base_url) \n",
    "table = tables[6]\n",
    "for i in range(1,10):\n",
    "    table[i] = table[i].str.replace('&nbsp', '')\n",
    "for i in range(0,10):\n",
    "    name = table[i][0] + \" (\" + table[i][1] + \")\"\n",
    "    columns.append(name)\n",
    "    \n",
    "all_tables = pd.DataFrame(columns=columns)\n",
    "all_tables['reg_number'] = ''\n",
    "all_tables['reg_name'] = ''\n",
    "\n",
    "region_numbers = []\n",
    "for i in range(0,88):\n",
    "    number = soup.find_all('option',{'class':''})[1:][i]['value']\n",
    "    region_numbers.append(number)\n",
    "    \n",
    "region_names = []\n",
    "for i in range(1,89):\n",
    "    region = soup.find_all('option')[i].text.strip()\n",
    "    region_names.append(region)\n",
    "    \n",
    "\n",
    "for u in range(0,88):\n",
    "    url = 'http://www.demoscope.ru/weekly/ssp/rus_age1_89.php?reg='+str(u)\n",
    "    page1  = requests.get(url)\n",
    "    tables1 = pd.read_html(url) \n",
    "    table1 = tables1[6]\n",
    "    for i in range(1,10):\n",
    "        table1[i] = table1[i].str.replace('&nbsp', '')\n",
    "    for j in range(1,10):\n",
    "        table1.columns = columns\n",
    "    table1 = table1.iloc[2:]\n",
    "    table1[\"reg_number\"] = region_numbers[u]\n",
    "    table1[\"reg_name\"] = region_names[u]\n",
    "    all_tables = all_tables.append(table1)"
   ]
  },
  {
   "cell_type": "code",
   "execution_count": 338,
   "metadata": {},
   "outputs": [],
   "source": [
    " all_tables.to_csv('age_gender_89.csv', sep =',')"
   ]
  }
 ],
 "metadata": {
  "kernelspec": {
   "display_name": "Python 3",
   "language": "python",
   "name": "python3"
  },
  "language_info": {
   "codemirror_mode": {
    "name": "ipython",
    "version": 3
   },
   "file_extension": ".py",
   "mimetype": "text/x-python",
   "name": "python",
   "nbconvert_exporter": "python",
   "pygments_lexer": "ipython3",
   "version": "3.8.3"
  }
 },
 "nbformat": 4,
 "nbformat_minor": 4
}
